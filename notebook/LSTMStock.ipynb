{
 "cells": [
  {
   "cell_type": "code",
   "execution_count": 2,
   "outputs": [
    {
     "name": "stdout",
     "text": [
      "StockPricePredict aaaa\n",
      "open\n",
      "[312.304948, 312.304948]\n",
      "low\n",
      "[310.955001, 310.955001]\n",
      "high\n",
      "[313.580158, 313.580158]\n",
      "volumn\n",
      "[3927000.0, 3927000.0]\n",
      "http://localhost:1234/getStockPrice/WzMxMi4zMDQ5NDgsIDMxMi4zMDQ5NDhd/WzMxMC45NTUwMDEsIDMxMC45NTUwMDFd/WzMxMy41ODAxNTgsIDMxMy41ODAxNThd/WzM5MjcwMDAuMCwgMzkyNzAwMC4wXQ==/WzMxMi4zMDQ5NDgsIDMxMi4zMDQ5NDhd\n",
      "vCloseOneCall Api\n",
      "[312.676025390625, 312.676025390625]\n",
      "<class 'list'>\n"
     ],
     "output_type": "stream"
    }
   ],
   "source": [
    "import tabpy_client\n",
    "import requests\n",
    "import base64\n",
    "import json\n",
    "\n",
    "def Encode(lst):\n",
    "\n",
    "    res = ''\n",
    "    #list to json string\n",
    "    res = json.dumps(lst)\n",
    "\n",
    "    #Encode string to base64\n",
    "\n",
    "    sample_string = res\n",
    "    sample_string_bytes = sample_string.encode(\"ascii\")\n",
    "\n",
    "    base64_bytes = base64.b64encode(sample_string_bytes)\n",
    "    base64_string = base64_bytes.decode(\"ascii\")\n",
    "\n",
    "    return base64_string\n",
    "\n",
    "\n",
    "def StockPricePredictApiOneCall(open,low,high,volumn):\n",
    "    print('StockPricePredict aaaa')\n",
    "    from keras.models import Sequential, load_model, save_model\n",
    "    import tensorflow as tf\n",
    "    graph = tf.get_default_graph()\n",
    "    print('open')\n",
    "    print(open)\n",
    "    \n",
    "    print('low')\n",
    "    print(low)\n",
    "    \n",
    "    print('high')\n",
    "    print(high)\n",
    "    \n",
    "    print('volumn')\n",
    "    print(volumn)\n",
    "    #print(x_scaler.transform(volumn))\n",
    "    \n",
    "    \n",
    "    url = 'http://localhost:1234/getStockPrice'\n",
    "    url= url +'/'+ Encode(open)\n",
    "    url= url +'/'+ Encode(low)\n",
    "    url= url +'/'+ Encode(high)\n",
    "    url= url +'/'+ Encode(volumn)\n",
    "    url= url +'/'+ Encode(open)\n",
    "    \n",
    "    print(url)\n",
    "    \n",
    "    jsonString = requests.get(url).text\n",
    "    \n",
    "    res = json.loads(jsonString)\n",
    "      \n",
    "    return res\n",
    "   \n",
    "vCloseOneCall = StockPricePredictApiOneCall([312.304948,312.304948] , [310.955001,310.955001] , [313.580158,313.580158] , [3927000.0,3927000.0])    \n",
    "\n",
    "print('vCloseOneCall Api')\n",
    "print(vCloseOneCall)\n",
    "print(type(vCloseOneCall))\n",
    "\n",
    "\n",
    "\n",
    "# Connect to TabPy server using the client library\n",
    "connection = tabpy_client.Client('http://localhost:9004/')\n",
    "\n",
    "# Publish the StockPricePredictApiOneCall function to TabPy server so it can be used from Tableau\n",
    "\n",
    "connection.deploy('StockPricePredictApiOneCall',\n",
    "                  StockPricePredictApiOneCall,\n",
    "                  'Returns StockPricePredictApiOneCall', override = True)"
   ],
   "metadata": {
    "collapsed": false,
    "pycharm": {
     "name": "#%%\n",
     "is_executing": false
    }
   }
  }
 ],
 "metadata": {
  "kernelspec": {
   "display_name": "Python 3",
   "language": "python",
   "name": "python3"
  },
  "language_info": {
   "codemirror_mode": {
    "name": "ipython",
    "version": 2
   },
   "file_extension": ".py",
   "mimetype": "text/x-python",
   "name": "python",
   "nbconvert_exporter": "python",
   "pygments_lexer": "ipython2",
   "version": "2.7.6"
  },
  "pycharm": {
   "stem_cell": {
    "cell_type": "raw",
    "source": [],
    "metadata": {
     "collapsed": false
    }
   }
  }
 },
 "nbformat": 4,
 "nbformat_minor": 0
}